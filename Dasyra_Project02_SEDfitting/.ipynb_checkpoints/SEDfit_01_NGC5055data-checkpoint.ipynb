{
 "cells": [
  {
   "cell_type": "markdown",
   "id": "8142b1c7",
   "metadata": {},
   "source": [
    "# NGC5055 data"
   ]
  },
  {
   "cell_type": "markdown",
   "id": "89170882",
   "metadata": {},
   "source": [
    " Φορτώνουμε και βλέπουμε τα δεδομένα για τον NGC5055 (από το [NED](https://ned.ipac.caltech.edu/))."
   ]
  },
  {
   "cell_type": "markdown",
   "id": "1afff7b7",
   "metadata": {},
   "source": [
    "# Imports"
   ]
  },
  {
   "cell_type": "code",
   "execution_count": 1,
   "id": "4d85965e",
   "metadata": {},
   "outputs": [],
   "source": [
    "import numpy as np\n",
    "import pandas as pd\n",
    "from matplotlib import pyplot as plt\n",
    "from matplotlib import colors\n",
    "\n",
    "from astropy import units as  u\n",
    "from astropy.cosmology import FlatLambdaCDM\n",
    "cosmo=FlatLambdaCDM(H0=70, Om0=0.3)\n",
    "\n",
    "import scipy.constants as cst "
   ]
  },
  {
   "cell_type": "markdown",
   "id": "2c8f3483",
   "metadata": {},
   "source": [
    "# Functions"
   ]
  },
  {
   "cell_type": "code",
   "execution_count": 2,
   "id": "85076d7c",
   "metadata": {},
   "outputs": [],
   "source": [
    "def Flambda_to_Fnu(flux_lambda, wl_angst): \n",
    "    \n",
    "    \"\"\"\n",
    "    This function transforms flux F_\\lambda to F_\\nu\n",
    "    input:\n",
    "    -flux in units of (some luminosity units) / Angstrom\n",
    "    -wavelength (spectral axis) in Angstrom\n",
    "    output:\n",
    "    -flux in units of (some luminosity units) / Hz\n",
    "    \"\"\"\n",
    "    \n",
    "    Angstrom = 1e10\n",
    "\n",
    "    flux_nu = flux_lambda * (wl_angst**2. ) / (cst.c * Angstrom) \n",
    "    return flux_nu\n",
    "\n"
   ]
  },
  {
   "cell_type": "markdown",
   "id": "76f67472",
   "metadata": {},
   "source": [
    "# Load galaxy data"
   ]
  },
  {
   "cell_type": "code",
   "execution_count": 3,
   "id": "c160a155",
   "metadata": {},
   "outputs": [
    {
     "data": {
      "text/html": [
       "<div>\n",
       "<style scoped>\n",
       "    .dataframe tbody tr th:only-of-type {\n",
       "        vertical-align: middle;\n",
       "    }\n",
       "\n",
       "    .dataframe tbody tr th {\n",
       "        vertical-align: top;\n",
       "    }\n",
       "\n",
       "    .dataframe thead th {\n",
       "        text-align: right;\n",
       "    }\n",
       "</style>\n",
       "<table border=\"1\" class=\"dataframe\">\n",
       "  <thead>\n",
       "    <tr style=\"text-align: right;\">\n",
       "      <th></th>\n",
       "      <th>Wave</th>\n",
       "      <th>F_lambda</th>\n",
       "      <th>Freq</th>\n",
       "      <th>F_nu</th>\n",
       "      <th>L_lambda</th>\n",
       "      <th>L_nu</th>\n",
       "    </tr>\n",
       "  </thead>\n",
       "  <tbody>\n",
       "    <tr>\n",
       "      <th>0</th>\n",
       "      <td>100.23</td>\n",
       "      <td>1.547400e-21</td>\n",
       "      <td>2.991045e+16</td>\n",
       "      <td>5.185341e-39</td>\n",
       "      <td>9.586740e+30</td>\n",
       "      <td>3.212519e+16</td>\n",
       "    </tr>\n",
       "    <tr>\n",
       "      <th>1</th>\n",
       "      <td>102.09</td>\n",
       "      <td>2.283600e-21</td>\n",
       "      <td>2.936551e+16</td>\n",
       "      <td>7.938999e-39</td>\n",
       "      <td>1.414778e+31</td>\n",
       "      <td>4.918516e+16</td>\n",
       "    </tr>\n",
       "    <tr>\n",
       "      <th>2</th>\n",
       "      <td>104.23</td>\n",
       "      <td>3.073400e-21</td>\n",
       "      <td>2.876259e+16</td>\n",
       "      <td>1.113740e-38</td>\n",
       "      <td>1.904090e+31</td>\n",
       "      <td>6.900050e+16</td>\n",
       "    </tr>\n",
       "    <tr>\n",
       "      <th>3</th>\n",
       "      <td>106.17</td>\n",
       "      <td>4.193800e-21</td>\n",
       "      <td>2.823702e+16</td>\n",
       "      <td>1.576851e-38</td>\n",
       "      <td>2.598221e+31</td>\n",
       "      <td>9.769200e+16</td>\n",
       "    </tr>\n",
       "    <tr>\n",
       "      <th>4</th>\n",
       "      <td>108.14</td>\n",
       "      <td>5.829200e-21</td>\n",
       "      <td>2.772262e+16</td>\n",
       "      <td>2.273846e-38</td>\n",
       "      <td>3.611414e+31</td>\n",
       "      <td>1.408735e+17</td>\n",
       "    </tr>\n",
       "    <tr>\n",
       "      <th>...</th>\n",
       "      <td>...</td>\n",
       "      <td>...</td>\n",
       "      <td>...</td>\n",
       "      <td>...</td>\n",
       "      <td>...</td>\n",
       "      <td>...</td>\n",
       "    </tr>\n",
       "    <tr>\n",
       "      <th>2298</th>\n",
       "      <td>342399.59</td>\n",
       "      <td>1.342200e-15</td>\n",
       "      <td>8.755631e+12</td>\n",
       "      <td>5.248836e-26</td>\n",
       "      <td>8.315447e+36</td>\n",
       "      <td>3.251856e+29</td>\n",
       "    </tr>\n",
       "    <tr>\n",
       "      <th>2299</th>\n",
       "      <td>344247.72</td>\n",
       "      <td>1.336500e-15</td>\n",
       "      <td>8.708626e+12</td>\n",
       "      <td>5.283119e-26</td>\n",
       "      <td>8.280133e+36</td>\n",
       "      <td>3.273096e+29</td>\n",
       "    </tr>\n",
       "    <tr>\n",
       "      <th>2300</th>\n",
       "      <td>346097.09</td>\n",
       "      <td>1.521400e-15</td>\n",
       "      <td>8.662091e+12</td>\n",
       "      <td>6.078810e-26</td>\n",
       "      <td>9.425660e+36</td>\n",
       "      <td>3.766058e+29</td>\n",
       "    </tr>\n",
       "    <tr>\n",
       "      <th>2301</th>\n",
       "      <td>347947.62</td>\n",
       "      <td>2.477800e-15</td>\n",
       "      <td>8.616023e+12</td>\n",
       "      <td>1.000629e-25</td>\n",
       "      <td>1.535093e+37</td>\n",
       "      <td>6.199285e+29</td>\n",
       "    </tr>\n",
       "    <tr>\n",
       "      <th>2302</th>\n",
       "      <td>349799.31</td>\n",
       "      <td>2.843300e-15</td>\n",
       "      <td>8.570413e+12</td>\n",
       "      <td>1.160486e-25</td>\n",
       "      <td>1.761534e+37</td>\n",
       "      <td>7.189658e+29</td>\n",
       "    </tr>\n",
       "  </tbody>\n",
       "</table>\n",
       "<p>2299 rows × 6 columns</p>\n",
       "</div>"
      ],
      "text/plain": [
       "           Wave      F_lambda          Freq          F_nu      L_lambda  \\\n",
       "0        100.23  1.547400e-21  2.991045e+16  5.185341e-39  9.586740e+30   \n",
       "1        102.09  2.283600e-21  2.936551e+16  7.938999e-39  1.414778e+31   \n",
       "2        104.23  3.073400e-21  2.876259e+16  1.113740e-38  1.904090e+31   \n",
       "3        106.17  4.193800e-21  2.823702e+16  1.576851e-38  2.598221e+31   \n",
       "4        108.14  5.829200e-21  2.772262e+16  2.273846e-38  3.611414e+31   \n",
       "...         ...           ...           ...           ...           ...   \n",
       "2298  342399.59  1.342200e-15  8.755631e+12  5.248836e-26  8.315447e+36   \n",
       "2299  344247.72  1.336500e-15  8.708626e+12  5.283119e-26  8.280133e+36   \n",
       "2300  346097.09  1.521400e-15  8.662091e+12  6.078810e-26  9.425660e+36   \n",
       "2301  347947.62  2.477800e-15  8.616023e+12  1.000629e-25  1.535093e+37   \n",
       "2302  349799.31  2.843300e-15  8.570413e+12  1.160486e-25  1.761534e+37   \n",
       "\n",
       "              L_nu  \n",
       "0     3.212519e+16  \n",
       "1     4.918516e+16  \n",
       "2     6.900050e+16  \n",
       "3     9.769200e+16  \n",
       "4     1.408735e+17  \n",
       "...            ...  \n",
       "2298  3.251856e+29  \n",
       "2299  3.273096e+29  \n",
       "2300  3.766058e+29  \n",
       "2301  6.199285e+29  \n",
       "2302  7.189658e+29  \n",
       "\n",
       "[2299 rows x 6 columns]"
      ]
     },
     "execution_count": 3,
     "metadata": {},
     "output_type": "execute_result"
    }
   ],
   "source": [
    "route_data = 'data/'\n",
    "filename = 'NGC5055_UV-MIR_NED.txt'\n",
    "\n",
    "#-------- NGC5055 (spiral LINER)-----#\n",
    "colnames=['Wave', 'F_lambda', 'drop','Freq', 'F_nu']   # Angstrom , erg/cm^2/s/A, Hz, W/m^2/Hz \n",
    "df = pd.read_csv(route_data+filename, skiprows=3, delim_whitespace=True, names=colnames, header=None)\n",
    "df.drop('drop', axis=1, inplace=True)\n",
    "df = df[df['F_lambda']>0]\n",
    "\n",
    "redshift =  0.001678\n",
    "D = cosmo.luminosity_distance(redshift)/u.Mpc*u.Mpc.to(u.cm) #in cm\n",
    "\n",
    "df['L_lambda'] = 4*np.pi*D**2*df['F_lambda']  #erg/s/A\n",
    "df['L_nu'] = Flambda_to_Fnu(df['L_lambda'].to_numpy(), df['Wave'].to_numpy())   #erg/s/Hz\n",
    "df"
   ]
  },
  {
   "cell_type": "markdown",
   "id": "6b6e67f0",
   "metadata": {},
   "source": [
    "# Galaxy data"
   ]
  },
  {
   "cell_type": "code",
   "execution_count": 4,
   "id": "2082ee70",
   "metadata": {},
   "outputs": [
    {
     "data": {
      "image/png": "[encoded data removed]",
      "text/plain": [
       "<Figure size 720x504 with 1 Axes>"
      ]
     },
     "metadata": {
      "needs_background": "light"
     },
     "output_type": "display_data"
    }
   ],
   "source": [
    "fig = plt.figure(figsize=(10,7))\n",
    "\n",
    "ax1 = fig.add_subplot(111)\n",
    "ax1.scatter(df['Wave'],df['L_lambda'], marker = '.',color = 'darkviolet',label = \"NGC5055 (spiral)\"  )\n",
    "ax1.axvspan(3900, 7600, alpha=0.17, color = 'gray')  #V\n",
    "ax1.text(5e3, 1e40,'V',color='k',size=14)\n",
    "ax1.text(2.5e3, 1e40,'UV',color='k',size=14)\n",
    "ax1.axvspan(100, 2000, alpha=0.07, color = 'gray')  #FUV\n",
    "ax1.text(3e2, 1e40,'FUV',color='k',size=14) \n",
    "ax1.grid(alpha=0.4)\n",
    "ylims = [1e29, 1e41]\n",
    "ax1.set_ylim(ylims)\n",
    "ax1.set_yscale('log')\n",
    "xlims = [5e1, 1e6]\n",
    "ax1.set_xlim(xlims)\n",
    "ax1.set_xscale('log')\n",
    "ax1.set_ylabel(r\"$ L_{\\lambda}  \\;(erg \\,s^{-1}\\,\\AA^{-1})$\", fontsize = 16)\n",
    "ax1.set_xlabel(r\"$\\lambda_{rest}\\; (\\AA)$\", fontsize = 16)\n",
    "ax1.legend(loc=\"lower left\", fontsize = 12)\n",
    "\n",
    "plt.show()"
   ]
  },
  {
   "cell_type": "code",
   "execution_count": 5,
   "id": "bc8ac798",
   "metadata": {},
   "outputs": [
    {
     "data": {
      "image/png": "[encoded data removed]",
      "text/plain": [
       "<Figure size 720x504 with 1 Axes>"
      ]
     },
     "metadata": {
      "needs_background": "light"
     },
     "output_type": "display_data"
    }
   ],
   "source": [
    "fig = plt.figure(figsize=(10,7))\n",
    "\n",
    "ax2 = fig.add_subplot(111)\n",
    "ax2.scatter(df['Freq'],df['L_nu'], marker = '.',color = 'darkviolet',label = \"NGC5055 (spiral)\"  )\n",
    "ax2.axvspan(4.2e14, 7.5e14, alpha=0.17, color = 'gray')  #V\n",
    "ax2.text(5e14, 2e30,'V',color='k',size=14)\n",
    "ax2.text(9e14, 2e30,'UV',color='k',size=14)\n",
    "ax2.axvspan(1.5e15, 30e15, alpha=0.07, color = 'gray')  #FUV\n",
    "ax2.text(4e15, 2e30,'FUV',color='k',size=14)  \n",
    "ax2.grid(alpha=0.4)\n",
    "ylims = [5e15, 1e31]\n",
    "ax2.set_ylim(ylims)\n",
    "ax2.set_yscale('log')\n",
    "xlims = [4e12, 5e16]\n",
    "ax2.set_xlim(xlims)\n",
    "ax2.set_xscale('log')\n",
    "ax2.set_ylabel(r\"$ L_{\\nu}$ (erg/s/Hz)\", fontsize = 16)\n",
    "ax2.set_xlabel(r\"$\\nu_{rest}$ (Hz)\", fontsize = 16)\n",
    "ax2.legend(loc=\"lower left\", fontsize = 12)\n",
    "\n",
    "plt.show()"
   ]
  },
  {
   "cell_type": "code",
   "execution_count": null,
   "id": "a0d42c1c",
   "metadata": {},
   "outputs": [],
   "source": []
  }
 ],
 "metadata": {
  "kernelspec": {
   "display_name": "Python 3 (ipykernel)",
   "language": "python",
   "name": "python3"
  },
  "language_info": {
   "codemirror_mode": {
    "name": "ipython",
    "version": 3
   },
   "file_extension": ".py",
   "mimetype": "text/x-python",
   "name": "python",
   "nbconvert_exporter": "python",
   "pygments_lexer": "ipython3",
   "version": "3.8.13"
  }
 },
 "nbformat": 4,
 "nbformat_minor": 5
}
