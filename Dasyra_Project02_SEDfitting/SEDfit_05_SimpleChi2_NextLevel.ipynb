{
 "cells": [
  {
   "cell_type": "markdown",
   "id": "8142b1c7",
   "metadata": {},
   "source": [
    "# $\\chi^2$ minimisation fitting"
   ]
  },
  {
   "cell_type": "markdown",
   "id": "89170882",
   "metadata": {},
   "source": [
    "Φορτώνουμε τα template όπως στο πρώτο notebook και κατασκευάζουμε το dictinary με όλους τους πιθανούς συνδυασμούς παραμέτρων.\n",
    "Φορτώνουμε και τα δεδομένα για τον NGC5055 όπως στο δεύτερο notebook.\n",
    "\n",
    "Θα δουλέψουμε με \n",
    "- φασματικό άξονα: Συχνότητες (Hz)\n",
    "- ένταση: $L_\\nu$ (erg/s/Hz)"
   ]
  },
  {
   "cell_type": "markdown",
   "id": "1afff7b7",
   "metadata": {},
   "source": [
    "# Imports"
   ]
  },
  {
   "cell_type": "code",
   "execution_count": 1,
   "id": "4d85965e",
   "metadata": {},
   "outputs": [],
   "source": [
    "import numpy as np\n",
    "import matplotlib.pyplot as plt\n",
    "import pandas as pd\n",
    "\n",
    "import pickle\n",
    "import itertools\n",
    "from astropy import units as  u\n",
    "from astropy.cosmology import FlatLambdaCDM\n",
    "cosmo=FlatLambdaCDM(H0=70, Om0=0.3)\n",
    "\n",
    "from scipy import constants as cst\n",
    "from scipy import integrate\n",
    "\n"
   ]
  },
  {
   "cell_type": "markdown",
   "id": "2c8f3483",
   "metadata": {},
   "source": [
    "# Functions"
   ]
  },
  {
   "cell_type": "code",
   "execution_count": 2,
   "id": "85076d7c",
   "metadata": {},
   "outputs": [],
   "source": [
    "def Flambda_to_Fnu(flux_lambda, wl_angst): \n",
    "    \n",
    "    \"\"\"\n",
    "    This function transforms flux F_\\lambda to F_\\nu\n",
    "    input:\n",
    "    -flux in units of (some luminosity units) / Angstrom\n",
    "    -wavelength (spectral axis) in Angstrom\n",
    "    output:\n",
    "    -flux in units of (some luminosity units) / Hz\n",
    "    \"\"\"\n",
    "    \n",
    "    Angstrom = 1e10\n",
    "\n",
    "    flux_nu = flux_lambda * (wl_angst**2. ) / (cst.c * Angstrom) \n",
    "    return flux_nu\n",
    "\n",
    "def SolarLumi_to_ergs(intensity): \n",
    "    \n",
    "    \"\"\"\n",
    "    This function transforms L_\\odot to erg/s\n",
    "    input:\n",
    "    -flux in units of SolarLumi/(some spectral unit) or luminosity in units of SolarLumi\n",
    "    output:\n",
    "    -flux in units of erg/s/(some spectral unit) or luminosity in units of erg/s\n",
    "    \"\"\"\n",
    "     \n",
    "    return intenisty*(3.846e33)\n",
    "\n",
    "\n",
    "def Calzetti(gal_nu, gal_Fnu,GAebv):\n",
    "\n",
    "    \"\"\"\n",
    "    This function computes the effect of reddening in the galaxy template (Calzetti law)\n",
    "    input:\n",
    "    - frequencies in Hz\n",
    "    - Fluxes in Fnu\n",
    "    - the reddening value E(B-V)_gal\n",
    "    output:\n",
    "    - frequencies in Hz\n",
    "    - Fluxes in Fnu Reddened \n",
    "    \"\"\"\n",
    "    RV = 4.05 #obscuration at V       \n",
    "\n",
    "    gal_lambda_m = cst.c / gal_nu * 1e6   #spectral axis: from Hz ----> microns \n",
    "    wl = gal_lambda_m[::-1]       #invert for lambda (ascending order of wavelength)\n",
    "    k = np.zeros(len(wl))      #απορροφηση\n",
    "\n",
    "    w0 = tuple([wl <= 0.12])  #lower limit for Calzetti law\n",
    "    w1 = tuple([wl < 0.63])\n",
    "    w2 = tuple([wl >= 0.63])\n",
    "\n",
    "    x1 = np.argmin(np.abs(wl - 0.12))\n",
    "    x2 = np.argmin(np.abs(wl - 0.125))\n",
    "    \n",
    "    #-----  equation 4 from Calzetti 2000 -----#\n",
    "\n",
    "    k[w2] = 2.659 * (-1.857 + 1.040 /wl[w2])+RV\n",
    "    k[w1] = 2.659 * (-2.156 + (1.509/wl[w1]) - (0.198/wl[w1]**2) + (0.011/wl[w1]**3))+RV\n",
    "    if (wl[x1] - wl[x2]) != 0:  # avoid division by zero\n",
    "        k[w0] = k[x1] + ((wl[w0] - 0.12) * (k[x1] - k[x2]) / (wl[x1] - wl[x2])) +RV\n",
    "    else:\n",
    "        k[w0] = 0\n",
    "    \n",
    "    #-----  equation 2 from Calzetti 2000 -----#\n",
    "\n",
    "    gal_k= k[::-1] #invert for nus\n",
    "    gal_Fnu_red = gal_Fnu * 10**(-0.4 * gal_k * GAebv)\n",
    "    \n",
    "    return gal_nu, gal_Fnu_red\n",
    "\n"
   ]
  },
  {
   "cell_type": "markdown",
   "id": "76f67472",
   "metadata": {},
   "source": [
    "# Load templates and create grid"
   ]
  },
  {
   "cell_type": "code",
   "execution_count": 42,
   "id": "e76d5bfd",
   "metadata": {},
   "outputs": [
    {
     "name": "stdout",
     "output_type": "stream",
     "text": [
      "CPU times: user 20 s, sys: 11.7 ms, total: 20 s\n",
      "Wall time: 20 s\n"
     ]
    }
   ],
   "source": [
    "%%time\n",
    "route_temps = 'templates/'\n",
    "\n",
    "# ------------------ Stellar population -----------------#\n",
    "BC03dict = pickle.load(open(route_temps + 'BC03_840seds.pickle', 'rb'), encoding='latin1')  \n",
    "\n",
    "\n",
    "wavelengths = BC03dict['wavelength'].value\n",
    "\n",
    "ebvgal_array = np.array(np.arange(0.,100.,2.5)/100)\n",
    "\n",
    "Nage = len(BC03dict['age-values'])  #πληθος διαφορετικων ηλικιών (30)\n",
    "Ntau = len(BC03dict['tau-values'])  #πληθος διαφορετικων τ  (28)\n",
    "Nebv = len(ebvgal_array)  #πληθος διαφορετικων E(B-V) (40 συνολικά)\n",
    "\n",
    "idxs = [np.arange(Nage), np.arange(Ntau), np.arange(Nebv)]\n",
    "\n",
    "par_idxs_combinations = np.array(list(itertools.product(*idxs)))\n",
    "\n",
    "GALAXY_dict = dict()     # gia kathe mia apo tis tripletes \n",
    "GALAXY_SFRdict = dict()   #deutereuon/ dedomenou age kai tau sou dinei kat eutheian to SFR\n",
    "GALAXY_ATTdict = dict()   #deutereuon/ dedomenis kathe tripletas sou dinei synoliki aporrofimeni lamprothta\n",
    "\n",
    "for jj in par_idxs_combinations:\n",
    "    agei=jj[0]\n",
    "    taui=jj[1]\n",
    "    ebvi=jj[2]\n",
    "    \n",
    "    gal_wl, gal_Fwl =  BC03dict['wavelength'],BC03dict['SED'][:,agei,taui,:,:,:].squeeze()\n",
    "    gal_nus= gal_wl.to(u.Hz, equivalencies=u.spectral())[::-1] #invert\n",
    "    gal_Fnu= Flambda_to_Fnu(gal_Fwl , gal_wl)[::-1]  # Fnu2Flambda\n",
    "    gal_SFR= BC03dict['SFR'][:,agei,taui,:,:].squeeze()\n",
    "\n",
    "    #applying reddening to the spectral values, and all 40 ebv values (from 0 to 0.975)\n",
    "    gal_nu, gal_Fnu_red = Calzetti(gal_nus.value, gal_Fnu.value, ebvgal_array[ebvi])  \n",
    "\n",
    "    GALAXY_dict[str(BC03dict['tau-values'].value[taui]),str(np.log10(BC03dict['age-values'].value[agei])), str(ebvgal_array[ebvi])] = gal_nu, gal_Fnu_red*1e18 \n",
    "    GALAXY_SFRdict[str(BC03dict['tau-values'].value[taui]),str(np.log10(BC03dict['age-values'].value[agei]))] = gal_SFR \n",
    "\n",
    "    gal_Fnu_int = integrate.trapz(gal_Fnu.value, x=gal_nus.value)\n",
    "    gal_Fnured_int = integrate.trapz(gal_Fnu_red, x=gal_nu)\n",
    "    gal_att_int = gal_Fnu_int- gal_Fnured_int\n",
    "    GALAXY_ATTdict[str(BC03dict['tau-values'].value[taui]),str(np.log10(BC03dict['age-values'].value[agei])), str(ebvgal_array[ebvi])] = gal_att_int \n"
   ]
  },
  {
   "cell_type": "markdown",
   "id": "622bf94a",
   "metadata": {},
   "source": [
    "# Load galaxy data"
   ]
  },
  {
   "cell_type": "code",
   "execution_count": 43,
   "id": "c160a155",
   "metadata": {},
   "outputs": [],
   "source": [
    "route_data = 'data/'\n",
    "filename = 'NGC5055_UV-MIR_NED.txt'\n",
    "\n",
    "#-------- NGC5055 (spiral LINER)-----#\n",
    "colnames=['Wave', 'F_lambda', 'drop','Freq', 'F_nu']   # Angstrom , erg/cm^2/s/A, Hz, W/m^2/Hz \n",
    "df = pd.read_csv(route_data+filename, skiprows=3, delim_whitespace=True, names=colnames, header=None)\n",
    "df.drop('drop', axis=1, inplace=True)\n",
    "df = df[df['F_lambda']>0]\n",
    "\n",
    "redshift =  0.001678\n",
    "D = cosmo.luminosity_distance(redshift)/u.Mpc*u.Mpc.to(u.cm) #in cm\n",
    "\n",
    "df['L_lambda'] = 4*np.pi*D**2*df['F_lambda']  #erg/s/A\n",
    "df['L_nu'] = Flambda_to_Fnu(df['L_lambda'].to_numpy(), df['Wave'].to_numpy())   #erg/s/Hz\n"
   ]
  },
  {
   "cell_type": "markdown",
   "id": "6b6e67f0",
   "metadata": {},
   "source": [
    "# 01. Plot galaxy data with an uninformed guess"
   ]
  },
  {
   "cell_type": "markdown",
   "id": "6925495f",
   "metadata": {},
   "source": [
    "We will select a template and scale it with mass $M_\\star = 10^{11}\\,M_\\odot$ (this is an uninformed guess).  \n",
    "Then, plot the data with this guess.\n",
    "\n",
    "Note: Measurement uncertainties are not provided in our data.\n",
    "\n"
   ]
  },
  {
   "cell_type": "code",
   "execution_count": 44,
   "id": "a26ef1d9",
   "metadata": {},
   "outputs": [
    {
     "name": "stdout",
     "output_type": "stream",
     "text": [
      "Chi-squared value for this uninformed guess: \n",
      " 1.4480879995869123e+31\n"
     ]
    }
   ],
   "source": [
    "# Starting guess\n",
    "mass = 1e10  # Solar masses\n",
    "templ_idx = 42\n",
    "nu_temp = GALAXY_dict[list(GALAXY_dict.keys())[templ_idx]][0]\n",
    "F_nu_temp = GALAXY_dict[list(GALAXY_dict.keys())[templ_idx]][1]\n",
    "\n",
    "# make model photometry match data\n",
    "model_freq = df['Freq'].copy().to_numpy()\n",
    "model_lumi = np.interp(df['Freq'].copy().to_numpy(),nu_temp,F_nu_temp,left=0, right=0)\n",
    "model_lumi *=mass\n",
    "# Chi-sq of our quess\n",
    "errs = 1e15*np.ones(len(df['Freq']))  #arbitrarily 10^15 (simply for chi2 use)\n",
    "diffs = df['L_nu'] - model_lumi\n",
    "chisq = np.sum(diffs**2/errs**2)\n",
    "print(\"Chi-squared value for this uninformed guess: \\n\", chisq)"
   ]
  },
  {
   "cell_type": "code",
   "execution_count": 47,
   "id": "5dc0cd5f",
   "metadata": {},
   "outputs": [
    {
     "data": {
      "image/png": "[encoded data removed]",
      "text/plain": [
       "<Figure size 720x504 with 1 Axes>"
      ]
     },
     "metadata": {
      "needs_background": "light"
     },
     "output_type": "display_data"
    }
   ],
   "source": [
    "fig = plt.figure(figsize=(10,7))\n",
    "\n",
    "ax = fig.add_subplot(111)\n",
    "ax.scatter(df['Freq'],df['L_nu'], marker = '.',color = 'darkviolet',label = \"NGC5055 (spiral)\"  )\n",
    "ax.scatter(model_freq, model_lumi, marker = '.',color = 'darkorange',label = \"First guess Stellar component\"  ) \n",
    "ax.grid(alpha=0.4)\n",
    "ylims = [1e10, 1e31]\n",
    "ax.set_ylim(ylims)\n",
    "ax.set_yscale('log')\n",
    "xlims = [4e12, 5e16]\n",
    "ax.set_xlim(xlims)\n",
    "ax.set_xscale('log')\n",
    "ax.set_ylabel(r\"$ L_{\\nu}$ (erg/s/Hz)\", fontsize = 16)\n",
    "ax.set_xlabel(r\"$\\nu_{rest}$ (Hz)\", fontsize = 16)\n",
    "ax.legend(loc=\"lower left\", fontsize = 12)\n",
    "\n",
    "plt.show()"
   ]
  },
  {
   "cell_type": "code",
   "execution_count": 52,
   "id": "bc8ac798",
   "metadata": {},
   "outputs": [
    {
     "data": {
      "image/png": "[encoded data removed]",
      "text/plain": [
       "<Figure size 720x504 with 1 Axes>"
      ]
     },
     "metadata": {
      "needs_background": "light"
     },
     "output_type": "display_data"
    }
   ],
   "source": [
    "fig = plt.figure(figsize=(10,7))\n",
    "\n",
    "ax = fig.add_subplot(111)\n",
    "ax.scatter(df['Freq'], df['Freq']*df['L_nu'], marker = '.',color = 'darkviolet',label = \"NGC5055 (spiral)\"  )\n",
    "ax.scatter(model_freq, model_freq*model_lumi, marker = '.',color = 'darkorange',label = \"First guess Stellar component\"  ) \n",
    "ax.grid(alpha=0.4)\n",
    "ylims = [1e20, 1e44]\n",
    "ax.set_ylim(ylims)\n",
    "ax.set_yscale('log')\n",
    "xlims = [4e12, 5e16]\n",
    "ax.set_xlim(xlims)\n",
    "ax.set_xscale('log')\n",
    "ax.set_ylabel(r\"$\\nu \\, L_{\\nu}$ (erg/s)\", fontsize = 16)\n",
    "ax.set_xlabel(r\"$\\nu_{rest}$ (Hz)\", fontsize = 16)\n",
    "ax.legend(loc=\"lower left\", fontsize = 12)\n",
    "\n",
    "plt.show()"
   ]
  },
  {
   "cell_type": "markdown",
   "id": "ecab9acd",
   "metadata": {},
   "source": [
    "Ok, μάλλον έχω κάνει λάθος στην κανονικοποίηση των template σε ηλιακή μάζα. \n",
    "Το ανεβάζω προσωρινά έτσι για να πιάσουμε το νόημα και θα το διορθώσω όταν διαβάσω προσεκτικότερα την φόρμουλα με την οποία παράχθηκαν."
   ]
  },
  {
   "cell_type": "markdown",
   "id": "a9703233",
   "metadata": {},
   "source": [
    "# 02. $\\chi^2$ minimisation για να βρούμε το καλύτερο template με το καλύτερο scaling μάζας που αναπαριστά με έναν αστρικό πληθυσμό τον γαλαξία μας. "
   ]
  },
  {
   "cell_type": "code",
   "execution_count": 56,
   "id": "0d2b2f03",
   "metadata": {},
   "outputs": [
    {
     "name": "stdout",
     "output_type": "stream",
     "text": [
      "Tried 0 / 672000 models.\n",
      "best chi-squared value: 1.4480879995809647e+31\n",
      "best parameters (log mass, no of template): 12.799999999999986 [0]\n",
      "CPU times: user 15min 42s, sys: 371 ms, total: 15min 43s\n",
      "Wall time: 15min 43s\n"
     ]
    }
   ],
   "source": [
    "%%time\n",
    "\n",
    "errs = 1e15*np.ones(len(df['Freq'])) #arbitrary\n",
    "\n",
    "masses = 10**np.arange(9, 13, 0.2)  # μεταξύ 10^9 και 10^13\n",
    "templ_indices = np.arange(len(list(GALAXY_dict.keys())))\n",
    "\n",
    "best_chisq = np.inf\n",
    "best_point = [0.,0.]\n",
    "\n",
    "n_masses = masses.shape[0]\n",
    "n_temps = templ_indices.shape[0]\n",
    "n_models = n_masses*n_temps \n",
    "\n",
    "for j in range(n_masses):\n",
    "    for k in range(n_temps):    \n",
    "        model_no = k + j*n_masses\n",
    "            \n",
    "        if not model_no % 10000:\n",
    "            print(\"Tried\", model_no, \"/\", n_models, \"models.\")\n",
    "            \n",
    "        mass = masses[j]\n",
    "        templ_idx = templ_indices[k]\n",
    "        \n",
    "        nu_temp = GALAXY_dict[list(GALAXY_dict.keys())[templ_idx]][0]\n",
    "        F_nu_temp = GALAXY_dict[list(GALAXY_dict.keys())[templ_idx]][1]\n",
    "\n",
    "        model_freq = df['Freq'].copy().to_numpy()\n",
    "        model_lumi = np.interp(df['Freq'].copy().to_numpy(),nu_temp,F_nu_temp,left=0, right=0)\n",
    "        model_lumi *=mass\n",
    "                    \n",
    "        diffs = df['L_nu'] - model_lumi\n",
    "\n",
    "        chisq = np.sum(diffs**2/errs**2)\n",
    "            \n",
    "        if chisq < best_chisq:\n",
    "                best_chisq = chisq\n",
    "                best_point = [j,k]\n",
    "                \n",
    "print(\"best chi-squared value:\", best_chisq)\n",
    "print(\"best parameters (log mass, no of template):\",\n",
    "       np.log10(masses[best_point[0]]),\n",
    "       [best_point[1]])"
   ]
  },
  {
   "cell_type": "code",
   "execution_count": null,
   "id": "da34a067",
   "metadata": {},
   "outputs": [],
   "source": []
  },
  {
   "cell_type": "code",
   "execution_count": null,
   "id": "42627dfe",
   "metadata": {},
   "outputs": [],
   "source": []
  },
  {
   "cell_type": "code",
   "execution_count": null,
   "id": "2322a180",
   "metadata": {},
   "outputs": [],
   "source": []
  },
  {
   "cell_type": "code",
   "execution_count": null,
   "id": "c7971ef9",
   "metadata": {},
   "outputs": [],
   "source": []
  }
 ],
 "metadata": {
  "kernelspec": {
   "display_name": "Python 3 (ipykernel)",
   "language": "python",
   "name": "python3"
  },
  "language_info": {
   "codemirror_mode": {
    "name": "ipython",
    "version": 3
   },
   "file_extension": ".py",
   "mimetype": "text/x-python",
   "name": "python",
   "nbconvert_exporter": "python",
   "pygments_lexer": "ipython3",
   "version": "3.8.13"
  }
 },
 "nbformat": 4,
 "nbformat_minor": 5
}
